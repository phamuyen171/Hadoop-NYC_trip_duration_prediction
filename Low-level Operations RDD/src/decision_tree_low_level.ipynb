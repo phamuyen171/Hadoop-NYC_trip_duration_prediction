{
 "cells": [
  {
   "cell_type": "markdown",
   "id": "b420adf1",
   "metadata": {},
   "source": [
    "# **Regression with Decision Trees**"
   ]
  },
  {
   "cell_type": "code",
   "execution_count": 1,
   "id": "fdf80524",
   "metadata": {},
   "outputs": [],
   "source": [
    "# set your spark folder to your system path environment.\n",
    "import os\n",
    "os.environ[\"JAVA_HOME\"] = \"/usr/lib/jvm/java-8-openjdk-amd64\"\n",
    "os.environ[\"SPARK_HOME\"] = \"/home/baobu/spark-3.5.1-bin-hadoop3\""
   ]
  },
  {
   "cell_type": "markdown",
   "id": "04545aaa",
   "metadata": {},
   "source": [
    "## Create a SparkSession in Python"
   ]
  },
  {
   "cell_type": "code",
   "execution_count": 2,
   "id": "97c233ca",
   "metadata": {},
   "outputs": [],
   "source": [
    "# start pyspark\n",
    "# !pip install findspark\n",
    "import findspark\n",
    "findspark.init()"
   ]
  },
  {
   "cell_type": "code",
   "execution_count": 3,
   "id": "840789e1",
   "metadata": {},
   "outputs": [
    {
     "name": "stderr",
     "output_type": "stream",
     "text": [
      "your 131072x1 screen size is bogus. expect trouble\n",
      "25/05/10 23:39:49 WARN Utils: Your hostname, LAPTOP-2K5E710T resolves to a loopback address: 127.0.1.1; using 10.255.255.254 instead (on interface lo)\n",
      "25/05/10 23:39:49 WARN Utils: Set SPARK_LOCAL_IP if you need to bind to another address\n",
      "Setting default log level to \"WARN\".\n",
      "To adjust logging level use sc.setLogLevel(newLevel). For SparkR, use setLogLevel(newLevel).\n",
      "25/05/10 23:39:51 WARN NativeCodeLoader: Unable to load native-hadoop library for your platform... using builtin-java classes where applicable\n"
     ]
    }
   ],
   "source": [
    "import pyspark\n",
    "from pyspark.sql import SparkSession\n",
    "spark = SparkSession.builder.master(\"local\")\\\n",
    "          .appName(\"Low-level Decision Tree\")\\\n",
    "          .config(\"spark.some.config.option\", \"some-value\")\\\n",
    "          .getOrCreate()"
   ]
  },
  {
   "cell_type": "code",
   "execution_count": 4,
   "id": "39e4a55d",
   "metadata": {},
   "outputs": [],
   "source": [
    "sc = spark.sparkContext\n",
    "# sc.setCheckpointDir(\"checkpoint\")"
   ]
  },
  {
   "cell_type": "markdown",
   "id": "3ddb7dfe",
   "metadata": {},
   "source": [
    "## Low-Level Operations"
   ]
  },
  {
   "cell_type": "markdown",
   "id": "2a7f5223",
   "metadata": {},
   "source": [
    "### Import"
   ]
  },
  {
   "cell_type": "code",
   "execution_count": 5,
   "id": "7d5313ba",
   "metadata": {},
   "outputs": [],
   "source": [
    "from pyspark.sql import functions as f\n",
    "import matplotlib.pyplot as plt\n",
    "import numpy as np\n",
    "from datetime import datetime\n",
    "import math\n",
    "import random"
   ]
  },
  {
   "cell_type": "markdown",
   "id": "53a8ccc2",
   "metadata": {},
   "source": [
    "### 1. Read data"
   ]
  },
  {
   "cell_type": "code",
   "execution_count": 6,
   "id": "6e8d1a84",
   "metadata": {},
   "outputs": [],
   "source": [
    "def get_data(value):\n",
    "    try:\n",
    "        return float(value)\n",
    "    except ValueError:\n",
    "        return value"
   ]
  },
  {
   "cell_type": "code",
   "execution_count": 7,
   "id": "61b8305f",
   "metadata": {},
   "outputs": [
    {
     "name": "stderr",
     "output_type": "stream",
     "text": [
      "                                                                                \r"
     ]
    }
   ],
   "source": [
    "lines = sc.textFile(\"nyc-taxi-trip-duration/train/train.csv\")\n",
    "header = lines.first()\n",
    "data = lines.filter(lambda x: x != header)\n",
    "parsedData = data.map(\\\n",
    "lambda line: [get_data(x) for x in line.split(\",\")])"
   ]
  },
  {
   "cell_type": "code",
   "execution_count": 8,
   "id": "971abff7",
   "metadata": {},
   "outputs": [
    {
     "name": "stdout",
     "output_type": "stream",
     "text": [
      "['id2875421', 2.0, '2016-03-14 17:24:55', '2016-03-14 17:32:30', 1.0, -73.9821548461914, 40.76793670654297, -73.96463012695312, 40.765602111816406, 'N', 455.0]\n",
      "['id2377394', 1.0, '2016-06-12 00:43:35', '2016-06-12 00:54:38', 1.0, -73.98041534423828, 40.738563537597656, -73.99948120117188, 40.73115158081055, 'N', 663.0]\n",
      "['id3858529', 2.0, '2016-01-19 11:35:24', '2016-01-19 12:10:48', 1.0, -73.9790267944336, 40.763938903808594, -74.00533294677734, 40.710086822509766, 'N', 2124.0]\n",
      "['id3504673', 2.0, '2016-04-06 19:32:31', '2016-04-06 19:39:40', 1.0, -74.01004028320312, 40.719970703125, -74.01226806640625, 40.70671844482422, 'N', 429.0]\n",
      "['id2181028', 2.0, '2016-03-26 13:30:55', '2016-03-26 13:38:10', 1.0, -73.97305297851562, 40.793209075927734, -73.9729232788086, 40.78252029418945, 'N', 435.0]\n"
     ]
    }
   ],
   "source": [
    "def print_data(data):\n",
    "    for i in range(5):\n",
    "        print(data[i])\n",
    "print_data(parsedData.take(5))"
   ]
  },
  {
   "cell_type": "markdown",
   "id": "b9615810",
   "metadata": {},
   "source": [
    "### 2. Data preprocessing:"
   ]
  },
  {
   "cell_type": "markdown",
   "id": "ee806160",
   "metadata": {},
   "source": [
    "- Kiểm tra giá trị NULL."
   ]
  },
  {
   "cell_type": "code",
   "execution_count": 9,
   "id": "b6819f23",
   "metadata": {},
   "outputs": [
    {
     "name": "stderr",
     "output_type": "stream",
     "text": [
      "[Stage 2:=================================================>         (5 + 1) / 6]\r"
     ]
    },
    {
     "name": "stdout",
     "output_type": "stream",
     "text": [
      "Số dòng chứa NULL: 0\n"
     ]
    },
    {
     "name": "stderr",
     "output_type": "stream",
     "text": [
      "                                                                                \r"
     ]
    }
   ],
   "source": [
    "num_null_rows = parsedData.filter(lambda row: None in row).count()\n",
    "print(f\"Số dòng chứa NULL: {num_null_rows}\")"
   ]
  },
  {
   "cell_type": "markdown",
   "id": "1e3e527e",
   "metadata": {},
   "source": [
    "Data không chứa giá trị NULL."
   ]
  },
  {
   "cell_type": "markdown",
   "id": "894217e9",
   "metadata": {},
   "source": [
    "- Kiểm tra trùng lặp."
   ]
  },
  {
   "cell_type": "code",
   "execution_count": 10,
   "id": "2def632c",
   "metadata": {},
   "outputs": [
    {
     "name": "stderr",
     "output_type": "stream",
     "text": [
      "[Stage 5:=================================================>         (5 + 1) / 6]\r"
     ]
    },
    {
     "name": "stdout",
     "output_type": "stream",
     "text": [
      "Có trùng lặp: False\n"
     ]
    },
    {
     "name": "stderr",
     "output_type": "stream",
     "text": [
      "                                                                                \r"
     ]
    }
   ],
   "source": [
    "rdd = parsedData.map(lambda x: tuple(x))\n",
    "has_duplicates = rdd.count() != rdd.distinct().count()\n",
    "print(\"Có trùng lặp:\", has_duplicates)\n"
   ]
  },
  {
   "cell_type": "markdown",
   "id": "cf18018e",
   "metadata": {},
   "source": [
    "Data không chứa dòng trùng lặp."
   ]
  },
  {
   "cell_type": "markdown",
   "id": "6b578fb8",
   "metadata": {},
   "source": [
    "- Chuyển các cột categorical thành cột số.\n",
    "    - `store_and_fwd_flag`: chuyển thành numeric bằng LabelEncoder.\n",
    "    - `pickup_datetime` / `dropoff_datetime`: tách ra tháng, ngày trong tuần và giờ cụ thể (vì 3 mốc thời gian này đa số sẽ có 1 đặc trưng cụ thể)."
   ]
  },
  {
   "cell_type": "code",
   "execution_count": 11,
   "id": "4deb3e33",
   "metadata": {},
   "outputs": [],
   "source": [
    "def encode_categorical_features(categorical_col, value):\n",
    "    value_to_index = {value: idx for idx, value in enumerate(set(categorical_col))}\n",
    "    return [value_to_index.get(value, -1)]"
   ]
  },
  {
   "cell_type": "code",
   "execution_count": 12,
   "id": "713984bc",
   "metadata": {},
   "outputs": [
    {
     "name": "stderr",
     "output_type": "stream",
     "text": [
      "                                                                                \r"
     ]
    }
   ],
   "source": [
    "unique_values_store_col = parsedData.map(lambda row: row[-2]).distinct().collect()\n",
    "parsedData = parsedData.map(lambda row: row[:-1] + encode_categorical_features(unique_values_store_col, row[-2]) + row[-1:])"
   ]
  },
  {
   "cell_type": "code",
   "execution_count": 13,
   "id": "6958cf14",
   "metadata": {},
   "outputs": [],
   "source": [
    "def extract_datetime_features(datetime_col):\n",
    "    try:\n",
    "        dt = datetime.strptime(datetime_col, \"%Y-%m-%d %H:%M:%S\")\n",
    "        month = dt.month\n",
    "        weekday = dt.isoweekday() % 7 + 1\n",
    "        hour = dt.hour\n",
    "        return [month, weekday, hour]\n",
    "    except ValueError:\n",
    "        return [None, None, None]"
   ]
  },
  {
   "cell_type": "code",
   "execution_count": 14,
   "id": "df15ada9",
   "metadata": {},
   "outputs": [],
   "source": [
    "parsedData = parsedData.map(lambda row: row[:-1] + extract_datetime_features(row[2]) + row[-1:])"
   ]
  },
  {
   "cell_type": "code",
   "execution_count": 15,
   "id": "ef1df4f9",
   "metadata": {},
   "outputs": [
    {
     "name": "stdout",
     "output_type": "stream",
     "text": [
      "['id2875421', 2.0, '2016-03-14 17:24:55', '2016-03-14 17:32:30', 1.0, -73.9821548461914, 40.76793670654297, -73.96463012695312, 40.765602111816406, 'N', 0, 3, 2, 17, 455.0]\n",
      "['id2377394', 1.0, '2016-06-12 00:43:35', '2016-06-12 00:54:38', 1.0, -73.98041534423828, 40.738563537597656, -73.99948120117188, 40.73115158081055, 'N', 0, 6, 1, 0, 663.0]\n",
      "['id3858529', 2.0, '2016-01-19 11:35:24', '2016-01-19 12:10:48', 1.0, -73.9790267944336, 40.763938903808594, -74.00533294677734, 40.710086822509766, 'N', 0, 1, 3, 11, 2124.0]\n",
      "['id3504673', 2.0, '2016-04-06 19:32:31', '2016-04-06 19:39:40', 1.0, -74.01004028320312, 40.719970703125, -74.01226806640625, 40.70671844482422, 'N', 0, 4, 4, 19, 429.0]\n",
      "['id2181028', 2.0, '2016-03-26 13:30:55', '2016-03-26 13:38:10', 1.0, -73.97305297851562, 40.793209075927734, -73.9729232788086, 40.78252029418945, 'N', 0, 3, 7, 13, 435.0]\n"
     ]
    }
   ],
   "source": [
    "print_data(parsedData.take(5))"
   ]
  },
  {
   "cell_type": "markdown",
   "id": "71c34ae8",
   "metadata": {},
   "source": [
    "- Xử lý các giá trị bất hợp lý trong trip_duration "
   ]
  },
  {
   "cell_type": "code",
   "execution_count": 16,
   "id": "d51a98ba",
   "metadata": {},
   "outputs": [
    {
     "name": "stderr",
     "output_type": "stream",
     "text": [
      "                                                                                \r"
     ]
    }
   ],
   "source": [
    "trip_duration_col = parsedData.map(lambda row: row[-1]).collect()"
   ]
  },
  {
   "cell_type": "code",
   "execution_count": 17,
   "id": "e4905b7a",
   "metadata": {},
   "outputs": [
    {
     "name": "stdout",
     "output_type": "stream",
     "text": [
      "Min: 1.0\n",
      "Max: 3526282.0\n",
      "Mean: 959.4922729603659\n",
      "Std: 5237.429929188888\n",
      "25%: 397.0\n",
      "50% (Median): 662.0\n",
      "75%: 1075.0\n"
     ]
    }
   ],
   "source": [
    "print(\"Min:\", np.min(trip_duration_col))\n",
    "print(\"Max:\", np.max(trip_duration_col))\n",
    "print(\"Mean:\", np.mean(trip_duration_col))\n",
    "print(\"Std:\", np.std(trip_duration_col))\n",
    "print(\"25%:\", np.percentile(trip_duration_col, 25))\n",
    "print(\"50% (Median):\", np.median(trip_duration_col))\n",
    "print(\"75%:\", np.percentile(trip_duration_col, 75))"
   ]
  },
  {
   "cell_type": "markdown",
   "id": "9b692a5e",
   "metadata": {},
   "source": [
    "- Một vài giá trị trip_duration vô lý: \n",
    "    - $min = 1s$ (Vì ko thể có chuyến taxi nào chỉ 1s)\n",
    "    - $max = 3,526,282s \\approx 40 ngày$: không thể có chuyến taxi kéo dài hơn cả tháng.\n",
    "- Ngoài ra, các các giá trị phân vị thứ 1 và thứ 3 cách rất xa giá trị min và max, chứng tỏ có nhiều giá trị cực thấp/cực thấp bất thường.\n",
    "\n",
    "$\\Rightarrow$ Ước lượng khoảng giá trị hợp lý cho 1 cuốc taxi: 60s (1 phút) đến 3,600s (1 giờ) $\\rightarrow$ Loại bỏ các giá trị nằm ngoài khoảng."
   ]
  },
  {
   "cell_type": "markdown",
   "id": "12dc2fff",
   "metadata": {},
   "source": [
    "- Xử lý phân phối cho `trip_duration`"
   ]
  },
  {
   "cell_type": "code",
   "execution_count": 18,
   "id": "97cdcdb6",
   "metadata": {},
   "outputs": [
    {
     "name": "stderr",
     "output_type": "stream",
     "text": [
      "                                                                                \r"
     ]
    },
    {
     "name": "stdout",
     "output_type": "stream",
     "text": [
      "Số mẫu trước khi loại bỏ: 1458644\n"
     ]
    },
    {
     "name": "stderr",
     "output_type": "stream",
     "text": [
      "[Stage 11:================================================>         (5 + 1) / 6]\r"
     ]
    },
    {
     "name": "stdout",
     "output_type": "stream",
     "text": [
      "Số mẫu sau khi loại bỏ giá trị bất hợp lý: 1437732\n"
     ]
    },
    {
     "name": "stderr",
     "output_type": "stream",
     "text": [
      "                                                                                \r"
     ]
    }
   ],
   "source": [
    "print(\"Số mẫu trước khi loại bỏ:\", parsedData.count())\n",
    "parsedData = parsedData.filter(lambda row: (row[-1] >= 60) & (row[-1] <= 3600))\n",
    "print(\"Số mẫu sau khi loại bỏ giá trị bất hợp lý:\", parsedData.count())"
   ]
  },
  {
   "cell_type": "code",
   "execution_count": 19,
   "id": "bc29c913",
   "metadata": {},
   "outputs": [
    {
     "name": "stderr",
     "output_type": "stream",
     "text": [
      "                                                                                \r"
     ]
    }
   ],
   "source": [
    "trip_duration_col = parsedData.map(lambda row: row[-1]).collect()"
   ]
  },
  {
   "cell_type": "code",
   "execution_count": 20,
   "id": "60acd663",
   "metadata": {},
   "outputs": [
    {
     "data": {
      "image/png": "[encoded data removed]",
      "text/plain": [
       "<Figure size 640x480 with 1 Axes>"
      ]
     },
     "metadata": {},
     "output_type": "display_data"
    }
   ],
   "source": [
    "# Plotting a basic histogram\n",
    "plt.hist(trip_duration_col, bins=30, color='skyblue', edgecolor='black')\n",
    " \n",
    "# Adding labels and title\n",
    "plt.xlabel('Trip Duration')\n",
    "plt.ylabel('Frequency')\n",
    "plt.title('Histogram for Trip Duration')\n",
    " \n",
    "# Display the plot\n",
    "plt.show()"
   ]
  },
  {
   "cell_type": "markdown",
   "id": "bfcc904f",
   "metadata": {},
   "source": [
    "Dữ liệu bị lệch phải $\\Rightarrow$ Em dùng Log Tranformation để cân bằng lại."
   ]
  },
  {
   "cell_type": "code",
   "execution_count": 21,
   "id": "281a4da5",
   "metadata": {},
   "outputs": [],
   "source": [
    "parsedData = parsedData.map(lambda row: row[:-1] + [float(np.log1p(row[-1]))])"
   ]
  },
  {
   "cell_type": "code",
   "execution_count": 22,
   "id": "7509c7d1",
   "metadata": {},
   "outputs": [
    {
     "name": "stderr",
     "output_type": "stream",
     "text": [
      "                                                                                \r"
     ]
    },
    {
     "data": {
      "image/png": "[encoded data removed]",
      "text/plain": [
       "<Figure size 640x480 with 1 Axes>"
      ]
     },
     "metadata": {},
     "output_type": "display_data"
    }
   ],
   "source": [
    "trip_duration_col = parsedData.map(lambda row: row[-1]).collect()\n",
    "# Plotting a basic histogram\n",
    "plt.hist(trip_duration_col, bins=30, color='skyblue', edgecolor='black')\n",
    " \n",
    "# Adding labels and title\n",
    "plt.xlabel('Trip Duration')\n",
    "plt.ylabel('Frequency')\n",
    "plt.title('Histogram for Trip Duration')\n",
    " \n",
    "# Display the plot\n",
    "plt.show()"
   ]
  },
  {
   "cell_type": "markdown",
   "id": "5f631a55",
   "metadata": {},
   "source": [
    "Phân phối vẫn hơi lệch trái nhưng em tạm chấp nhận."
   ]
  },
  {
   "cell_type": "code",
   "execution_count": 23,
   "id": "7339d2e6",
   "metadata": {},
   "outputs": [
    {
     "name": "stderr",
     "output_type": "stream",
     "text": [
      "[Stage 14:>                                                         (0 + 1) / 1]\r"
     ]
    },
    {
     "name": "stdout",
     "output_type": "stream",
     "text": [
      "['id2875421', 2.0, '2016-03-14 17:24:55', '2016-03-14 17:32:30', 1.0, -73.9821548461914, 40.76793670654297, -73.96463012695312, 40.765602111816406, 'N', 0, 3, 2, 17, 6.1224928095143865]\n",
      "['id2377394', 1.0, '2016-06-12 00:43:35', '2016-06-12 00:54:38', 1.0, -73.98041534423828, 40.738563537597656, -73.99948120117188, 40.73115158081055, 'N', 0, 6, 1, 0, 6.498282149476434]\n",
      "['id3858529', 2.0, '2016-01-19 11:35:24', '2016-01-19 12:10:48', 1.0, -73.9790267944336, 40.763938903808594, -74.00533294677734, 40.710086822509766, 'N', 0, 1, 3, 11, 7.661527081358517]\n",
      "['id3504673', 2.0, '2016-04-06 19:32:31', '2016-04-06 19:39:40', 1.0, -74.01004028320312, 40.719970703125, -74.01226806640625, 40.70671844482422, 'N', 0, 4, 4, 19, 6.063785208687608]\n",
      "['id2181028', 2.0, '2016-03-26 13:30:55', '2016-03-26 13:38:10', 1.0, -73.97305297851562, 40.793209075927734, -73.9729232788086, 40.78252029418945, 'N', 0, 3, 7, 13, 6.077642243349034]\n"
     ]
    },
    {
     "name": "stderr",
     "output_type": "stream",
     "text": [
      "25/05/10 23:43:17 WARN PythonRunner: Detected deadlock while completing task 0.0 in stage 14 (TID 69): Attempting to kill Python Worker\n",
      "                                                                                \r"
     ]
    }
   ],
   "source": [
    "print_data(parsedData.take(5))"
   ]
  },
  {
   "cell_type": "markdown",
   "id": "4c7f325e",
   "metadata": {},
   "source": [
    "### 3. Create a RDD with record (features as list, label)"
   ]
  },
  {
   "cell_type": "markdown",
   "id": "b570de2c",
   "metadata": {},
   "source": [
    "- Lấy các giá trị số."
   ]
  },
  {
   "cell_type": "code",
   "execution_count": 24,
   "id": "67780d50",
   "metadata": {},
   "outputs": [
    {
     "name": "stderr",
     "output_type": "stream",
     "text": [
      "[Stage 15:>                                                         (0 + 1) / 1]\r"
     ]
    },
    {
     "name": "stdout",
     "output_type": "stream",
     "text": [
      "[2.0, 1.0, -73.9821548461914, 40.76793670654297, -73.96463012695312, 40.765602111816406, 0, 3, 2, 17, 6.1224928095143865]\n",
      "[1.0, 1.0, -73.98041534423828, 40.738563537597656, -73.99948120117188, 40.73115158081055, 0, 6, 1, 0, 6.498282149476434]\n",
      "[2.0, 1.0, -73.9790267944336, 40.763938903808594, -74.00533294677734, 40.710086822509766, 0, 1, 3, 11, 7.661527081358517]\n",
      "[2.0, 1.0, -74.01004028320312, 40.719970703125, -74.01226806640625, 40.70671844482422, 0, 4, 4, 19, 6.063785208687608]\n",
      "[2.0, 1.0, -73.97305297851562, 40.793209075927734, -73.9729232788086, 40.78252029418945, 0, 3, 7, 13, 6.077642243349034]\n"
     ]
    },
    {
     "name": "stderr",
     "output_type": "stream",
     "text": [
      "                                                                                \r"
     ]
    }
   ],
   "source": [
    "numeric_data = parsedData.map(lambda row: [x for x in row if isinstance(x, (int, float))])\n",
    "print_data(numeric_data.take(5))"
   ]
  },
  {
   "cell_type": "markdown",
   "id": "d9e75066",
   "metadata": {},
   "source": [
    "Cột giá trị tương ứng lần lượt là: [`vendor_id`, `passenger_count`, `pickup_longitude`, `pickup_latitude`, `dropoff_longitude`, `dropoff_latitude`, `store_and_fwd_flag_encode`, `pickup_month`, `pickup_weekday`, `pickup_hour`, `trip_duration`]"
   ]
  },
  {
   "cell_type": "markdown",
   "id": "a27434eb",
   "metadata": {},
   "source": [
    "- Tạo data rdd dạng tuple."
   ]
  },
  {
   "cell_type": "code",
   "execution_count": 25,
   "id": "6f15d554",
   "metadata": {},
   "outputs": [],
   "source": [
    "rdd_data = numeric_data.map(lambda cols: (cols[:-1], cols[-1]))"
   ]
  },
  {
   "cell_type": "code",
   "execution_count": 26,
   "id": "e736ba76",
   "metadata": {},
   "outputs": [
    {
     "name": "stdout",
     "output_type": "stream",
     "text": [
      "([2.0, 1.0, -73.9821548461914, 40.76793670654297, -73.96463012695312, 40.765602111816406, 0, 3, 2, 17], 6.1224928095143865)\n",
      "([1.0, 1.0, -73.98041534423828, 40.738563537597656, -73.99948120117188, 40.73115158081055, 0, 6, 1, 0], 6.498282149476434)\n",
      "([2.0, 1.0, -73.9790267944336, 40.763938903808594, -74.00533294677734, 40.710086822509766, 0, 1, 3, 11], 7.661527081358517)\n",
      "([2.0, 1.0, -74.01004028320312, 40.719970703125, -74.01226806640625, 40.70671844482422, 0, 4, 4, 19], 6.063785208687608)\n",
      "([2.0, 1.0, -73.97305297851562, 40.793209075927734, -73.9729232788086, 40.78252029418945, 0, 3, 7, 13], 6.077642243349034)\n"
     ]
    }
   ],
   "source": [
    "print_data(rdd_data.take(5))"
   ]
  },
  {
   "cell_type": "markdown",
   "id": "1b20b026",
   "metadata": {},
   "source": [
    "### 4. Implement Decision Tree Regression Model"
   ]
  },
  {
   "cell_type": "markdown",
   "id": "c1b36756",
   "metadata": {},
   "source": [
    "- Cài đặt bằng numpy."
   ]
  },
  {
   "cell_type": "code",
   "execution_count": 27,
   "id": "bf197994",
   "metadata": {},
   "outputs": [],
   "source": [
    "def get_variance(data):\n",
    "    n = len(data)\n",
    "    mean = sum(data) / n\n",
    "    variance = sum((x - mean) ** 2 for x in data) / n\n",
    "    return variance"
   ]
  },
  {
   "cell_type": "code",
   "execution_count": 28,
   "id": "24aed58c",
   "metadata": {},
   "outputs": [],
   "source": [
    "def get_mean(data):\n",
    "    return sum(data) / len(data)"
   ]
  },
  {
   "cell_type": "code",
   "execution_count": 29,
   "id": "c1b0c892",
   "metadata": {},
   "outputs": [],
   "source": [
    "def find_best_all_splits(X, y, num_bins=10):\n",
    "\n",
    "    best_variance = float(\"inf\")\n",
    "    best_split = None\n",
    "    best_feature_idx = None\n",
    "\n",
    "    num_features = len(X[0])\n",
    "    num_samples = len(X)\n",
    "\n",
    "    for feature_idx in range(num_features):\n",
    "        # splits = sorted(set(X[:,feature_idx]))\n",
    "\n",
    "        percentiles = np.percentile(X[:,feature_idx], np.linspace(0, 100, num_bins + 2)[1:-1])\n",
    "        splits = sorted(set(percentiles))  # tránh duplicate\n",
    "\n",
    "        for split in splits:\n",
    "            y_left = y[X[:,feature_idx] <= split]\n",
    "            y_right = y[X[:,feature_idx] > split]\n",
    "\n",
    "            n_left = len(y_left)\n",
    "\n",
    "            if not (0 < n_left < num_samples): continue\n",
    "            \n",
    "            left_variance = get_variance(y_left)\n",
    "            right_variance = get_variance(y_right)\n",
    "\n",
    "            current_variance = (n_left * left_variance + (num_samples - n_left) * right_variance) / num_samples\n",
    "            if current_variance < best_variance:\n",
    "                best_variance = current_variance\n",
    "                best_split = split\n",
    "                best_feature_idx = feature_idx\n",
    "\n",
    "    return best_feature_idx, best_split, best_variance"
   ]
  },
  {
   "cell_type": "code",
   "execution_count": 30,
   "id": "bb6f897b",
   "metadata": {},
   "outputs": [],
   "source": [
    "def dtfit(X, y, depth=0, max_depth=None):\n",
    "    X = np.array(X)\n",
    "    y = np.array(y)\n",
    "    if (max_depth is not None) and (depth >= max_depth):\n",
    "        return {\"val\": float(get_mean(y))}\n",
    "    \n",
    "    feature_idx, split, _ = find_best_all_splits(X, y)\n",
    "    \n",
    "    if feature_idx is None:\n",
    "        return {\"val\": float(get_mean(y))}\n",
    "\n",
    "    left_mask = X[:,feature_idx] <= split\n",
    "    right_mask = X[:,feature_idx] > split\n",
    "\n",
    "    left_X = X[left_mask]\n",
    "    left_y = y[left_mask]\n",
    "    right_X = X[right_mask]\n",
    "    right_y = y[right_mask]\n",
    "\n",
    "    if len(left_y) == 0 or len(right_y) == 0:\n",
    "        return {\"val\": float(get_mean(y))}\n",
    "\n",
    "    node = {\n",
    "        \"index_col\": feature_idx,\n",
    "        \"split\": split,\n",
    "        \"val\": float(get_mean(y)),\n",
    "        \"left\": None,\n",
    "        \"right\": None\n",
    "    }\n",
    "\n",
    "    node[\"left\"] = dtfit(left_X, left_y, depth + 1, max_depth)\n",
    "    node[\"right\"] = dtfit(right_X, right_y, depth + 1, max_depth)    \n",
    "    \n",
    "    return node\n",
    "    "
   ]
  },
  {
   "cell_type": "code",
   "execution_count": 31,
   "id": "e3eed469",
   "metadata": {},
   "outputs": [],
   "source": [
    "def predict(tree, x):\n",
    "    if \"left\" not in tree:\n",
    "        return tree[\"val\"]\n",
    "    \n",
    "    if x[tree[\"index_col\"]] <= tree[\"split\"]:\n",
    "        return predict(tree[\"left\"], x)\n",
    "    else:\n",
    "        return predict(tree[\"right\"], x)\n",
    "    \n",
    "def predict_all(tree, X):\n",
    "    return [predict(tree, x) for x in X]\n"
   ]
  },
  {
   "cell_type": "markdown",
   "id": "6c62b4c5",
   "metadata": {},
   "source": [
    "- Đánh giá mô hình: $$RMSE = \\sqrt{\\frac{1}{n}\\sum_{i=1}^{n}(y_i - \\hat{y_i}^2)}$$"
   ]
  },
  {
   "cell_type": "code",
   "execution_count": 32,
   "id": "1d08a895",
   "metadata": {},
   "outputs": [],
   "source": [
    "def rmse(y_true, y_pred):\n",
    "    y_true = np.array(y_true)   \n",
    "    y_pred = np.array(y_pred)\n",
    "    return np.sqrt(np.mean((y_true - y_pred) ** 2))"
   ]
  },
  {
   "cell_type": "markdown",
   "id": "86dfcced",
   "metadata": {},
   "source": [
    "- Một vài ví dụ để chạy thử."
   ]
  },
  {
   "cell_type": "code",
   "execution_count": 33,
   "id": "ec3fed81",
   "metadata": {},
   "outputs": [
    {
     "name": "stdout",
     "output_type": "stream",
     "text": [
      "Dự đoán cho dữ liệu kiểm tra: [3.9, 9.8]\n",
      "Đanhh giá RMSE: 0.8631338250816033\n"
     ]
    }
   ],
   "source": [
    "train_data = [\n",
    "    [1.0, 0.5],  # Features: [x1, x2]\n",
    "    [2.0, 1.0],\n",
    "    [3.0, 1.5],\n",
    "    [4.0, 2.0],\n",
    "    [5.0, 2.5]\n",
    "]\n",
    "train_labels = [2.1, 3.9, 6.2, 8.0, 9.8]  # y ≈ 2 * x1 + noise\n",
    "\n",
    "X_rdd = sc.parallelize(train_data)\n",
    "y_rdd = sc.parallelize(train_labels)\n",
    "\n",
    "tree = dtfit(X_rdd.collect(), y_rdd.collect(), max_depth=3)\n",
    "\n",
    "test_data = [\n",
    "    [1.5, 0.7],  # Giá trị thật ≈ 3.0\n",
    "    [4.5, 2.3]   # Giá trị thật ≈ 9.0\n",
    "]\n",
    "test_rdd = sc.parallelize(test_data)\n",
    "test_labels = sc.parallelize([3.2, 8.8])\n",
    "predictions = predict_all(tree, test_rdd.collect())\n",
    "\n",
    "print(\"Dự đoán cho dữ liệu kiểm tra:\", predictions)\n",
    "print(\"Đanhh giá RMSE:\", rmse(test_labels.collect(), predictions))"
   ]
  },
  {
   "cell_type": "markdown",
   "id": "beb72b23",
   "metadata": {},
   "source": [
    "- Cài đặt cho rdd (nhưng máy em không chạy nổi :<< )"
   ]
  },
  {
   "cell_type": "code",
   "execution_count": 34,
   "id": "504b0800",
   "metadata": {},
   "outputs": [],
   "source": [
    "def get_mean_rdd(y_rdd):\n",
    "    n = y_rdd.count()\n",
    "    if n == 0:\n",
    "        return 0\n",
    "    return y_rdd.reduce(lambda x, y: x + y) / n"
   ]
  },
  {
   "cell_type": "code",
   "execution_count": 35,
   "id": "e9107c20",
   "metadata": {},
   "outputs": [],
   "source": [
    "def get_variance_rdd(y_rdd):\n",
    "    n = y_rdd.count()\n",
    "    if n == 0:\n",
    "        return 0\n",
    "    \n",
    "    mean = get_mean_rdd(y_rdd)\n",
    "    squre_diff = y_rdd.map(lambda x: (x - mean) ** 2)\n",
    "    sum_squre_diff = squre_diff.reduce(lambda x, y: x + y)\n",
    "    \n",
    "    return sum_squre_diff / n"
   ]
  },
  {
   "cell_type": "code",
   "execution_count": 36,
   "id": "622c4f4e",
   "metadata": {},
   "outputs": [],
   "source": [
    "def find_best_all_splits_rdd(X_rdd, y_rdd, num_bins=10):\n",
    "    combined = X_rdd.zip(y_rdd).cache()\n",
    "    # combined.checkpoint()\n",
    "\n",
    "    best_variance = float(\"inf\")\n",
    "    best_split = None\n",
    "    best_feature_idx = None\n",
    "\n",
    "    num_features = len(X_rdd.first()) if not X_rdd.isEmpty() else 0\n",
    "    num_samples = X_rdd.count()\n",
    "\n",
    "    for feature_idx in range(num_features):\n",
    "        feature_values = X_rdd.map(lambda x: x[feature_idx]).collect()\n",
    "        percentiles = np.percentile(feature_values, np.linspace(0, 100, num_bins + 2)[1:-1])  # bỏ 0% và 100%\n",
    "        splits = sorted(set(percentiles))  \n",
    "        # splits = X_rdd.map(lambda x: x[feature_idx]).distinct().collect()\n",
    "        # splits.sort()\n",
    "        for split in splits:\n",
    "\n",
    "            left_y = combined.filter(lambda x: x[0][feature_idx] <= split).map(lambda x: x[1])\n",
    "            right_y = combined.filter(lambda x: x[0][feature_idx] > split).map(lambda x: x[1])\n",
    "            \n",
    "            n_left = left_y.count()\n",
    "\n",
    "            if not (0 < n_left < num_samples):\n",
    "                continue\n",
    "                \n",
    "            try:\n",
    "                # Tính variance\n",
    "                left_var = get_variance_rdd(left_y)\n",
    "                right_var = get_variance_rdd(right_y)\n",
    "\n",
    "                current_var = (n_left * left_var + (num_samples - n_left) * right_var) / num_samples\n",
    "                \n",
    "                if current_var < best_variance:\n",
    "                    best_variance = current_var\n",
    "                    best_split = split\n",
    "                    best_feature_idx = feature_idx\n",
    "                    \n",
    "            except Exception as e:\n",
    "                print(f\"Lỗi khi tính variance: {e}\")\n",
    "                continue\n",
    "\n",
    "    return best_feature_idx, best_split, best_variance"
   ]
  },
  {
   "cell_type": "code",
   "execution_count": 37,
   "id": "541b698d",
   "metadata": {},
   "outputs": [],
   "source": [
    "def dtfit_rdd(X_rdd, y_rdd, depth=0, max_depth=5):\n",
    "    if (max_depth is not None) and (depth >= max_depth):\n",
    "        return {\"val\": get_mean_rdd(y_rdd)}\n",
    "    \n",
    "    feature_idx, split, _ = find_best_all_splits_rdd(X_rdd, y_rdd)\n",
    "\n",
    "    if feature_idx is None:\n",
    "        return {\"val\": get_mean_rdd(y_rdd)}\n",
    "\n",
    "    mask = X_rdd.map(lambda x: x[feature_idx] <= split).cache()\n",
    "\n",
    "    left_X = X_rdd.zip(mask).filter(lambda x: x[1]).map(lambda x: x[0])\n",
    "    left_y = y_rdd.zip(mask).filter(lambda x: x[1]).map(lambda x: x[0])\n",
    "\n",
    "    right_X = X_rdd.zip(mask).filter(lambda x: not x[1]).map(lambda x: x[0]) \n",
    "    right_y = y_rdd.zip(mask).filter(lambda x: not x[1]).map(lambda x: x[0])\n",
    "\n",
    "    node = {\n",
    "        \"index_col\": feature_idx,\n",
    "        \"split\": split,\n",
    "        \"val\": get_mean_rdd(y_rdd),\n",
    "        \"left\": None,\n",
    "        \"right\": None\n",
    "    }\n",
    "\n",
    "    node[\"left\"] = dtfit_rdd(left_X, left_y, depth + 1, max_depth)\n",
    "    node[\"right\"] = dtfit_rdd(right_X, right_y, depth + 1, max_depth)    \n",
    "    \n",
    "    return node\n",
    "    "
   ]
  },
  {
   "cell_type": "code",
   "execution_count": 38,
   "id": "fa493976",
   "metadata": {},
   "outputs": [],
   "source": [
    "def predict_rdd(tree, x):\n",
    "    if \"left\" not in tree:\n",
    "        return tree[\"val\"]\n",
    "    \n",
    "    if x[tree[\"index_col\"]] <= tree[\"split\"]:\n",
    "        return predict_rdd(tree[\"left\"], x)\n",
    "    else:\n",
    "        return predict_rdd(tree[\"right\"], x)\n",
    "    \n",
    "def predict_all_rdd(tree, X_rdd):\n",
    "    return X_rdd.map(lambda x: predict_rdd(tree, x))"
   ]
  },
  {
   "cell_type": "markdown",
   "id": "90f6925a",
   "metadata": {},
   "source": [
    "- Đánh giá mô hình: $$RMSE = \\sqrt{\\frac{1}{n}\\sum_{i=1}^{n}(y_i - \\hat{y_i}^2)}$$"
   ]
  },
  {
   "cell_type": "code",
   "execution_count": 39,
   "id": "0e979673",
   "metadata": {},
   "outputs": [],
   "source": [
    "def rmse_rdd(y_pred_rdd, y_rdd):\n",
    "    if y_rdd.count() != y_pred_rdd.count():\n",
    "        raise ValueError(\"y_true_rdd và y_pred_rdd phải có cùng số lượng phần tử!\")\n",
    "    \n",
    "    squared_errors = y_rdd.zip(y_pred_rdd).map(lambda row: (row[0] - row[1]) **2)\n",
    "    mse = squared_errors.mean()\n",
    "    return math.sqrt(mse)"
   ]
  },
  {
   "cell_type": "markdown",
   "id": "fa9d75ab",
   "metadata": {},
   "source": [
    "- Một vài ví dụ để chạy thử."
   ]
  },
  {
   "cell_type": "code",
   "execution_count": 40,
   "id": "27de5056",
   "metadata": {},
   "outputs": [],
   "source": [
    "# train_data = [\n",
    "#     [1.0, 0.5],  # Features: [x1, x2]\n",
    "#     [2.0, 1.0],\n",
    "#     [3.0, 1.5],\n",
    "#     [4.0, 2.0],\n",
    "#     [5.0, 2.5]\n",
    "# ]\n",
    "# train_labels = [2.1, 3.9, 6.2, 8.0, 9.8]  # y ≈ 2 * x1 + noise\n",
    "\n",
    "# X_rdd = sc.parallelize(train_data)\n",
    "# y_rdd = sc.parallelize(train_labels)\n",
    "\n",
    "# tree = dtfit_rdd(X_rdd, y_rdd, max_depth=3)\n",
    "\n",
    "# test_data = [\n",
    "#     [1.5, 0.7],  # Giá trị thật ≈ 3.0\n",
    "#     [4.5, 2.3]   # Giá trị thật ≈ 9.0\n",
    "# ]\n",
    "# test_rdd = sc.parallelize(test_data)\n",
    "# test_labels = sc.parallelize([3.2, 8.8])\n",
    "# predictions = predict_all_rdd(tree, test_rdd)\n",
    "\n",
    "# print(\"Dự đoán cho dữ liệu kiểm tra:\", predictions.collect())\n",
    "# print(\"Đánh giá mô hình RMSE:\", rmse_rdd(predictions, test_labels))"
   ]
  },
  {
   "cell_type": "markdown",
   "id": "256bb1c3",
   "metadata": {},
   "source": [
    "### 5. Apply low-level model in current data."
   ]
  },
  {
   "cell_type": "markdown",
   "id": "cfa3885d",
   "metadata": {},
   "source": [
    "- Train - test split\n",
    "\n",
    "Ý tưởng: gán ngẫu nhiên nhãn 'train' hoặc 'test' cho mỗi điểm dữ liệu."
   ]
  },
  {
   "cell_type": "code",
   "execution_count": 41,
   "id": "334acdbf",
   "metadata": {},
   "outputs": [
    {
     "name": "stderr",
     "output_type": "stream",
     "text": [
      "                                                                                \r"
     ]
    },
    {
     "name": "stdout",
     "output_type": "stream",
     "text": [
      "Số mẫu train: 1150466\n"
     ]
    },
    {
     "name": "stderr",
     "output_type": "stream",
     "text": [
      "[Stage 22:======================================>                   (4 + 1) / 6]\r"
     ]
    },
    {
     "name": "stdout",
     "output_type": "stream",
     "text": [
      "Số mẫu test: 287266\n"
     ]
    },
    {
     "name": "stderr",
     "output_type": "stream",
     "text": [
      "                                                                                \r"
     ]
    }
   ],
   "source": [
    "random.seed(42)  \n",
    "def assign_split(row, test_size=0.2):\n",
    "    return (row, \"train\") if random.random() > test_size else (row, \"test\")\n",
    "\n",
    "labeled_data = rdd_data.map(assign_split).cache()\n",
    "train = labeled_data.filter(lambda x: x[1] == \"train\").map(lambda x: x[0])\n",
    "validation = labeled_data.filter(lambda x: x[1] == \"test\").map(lambda x: x[0])\n",
    "print(\"Số mẫu train:\", train.count())\n",
    "print(\"Số mẫu test:\", validation.count())"
   ]
  },
  {
   "cell_type": "code",
   "execution_count": 42,
   "id": "d1bb9688",
   "metadata": {},
   "outputs": [
    {
     "name": "stderr",
     "output_type": "stream",
     "text": [
      "                                                                                \r"
     ]
    }
   ],
   "source": [
    "tree = dtfit(train.map(lambda x: x[0]).collect(), train.map(lambda x: x[1]).collect(), max_depth=3)\n"
   ]
  },
  {
   "cell_type": "code",
   "execution_count": 43,
   "id": "096ea92e",
   "metadata": {},
   "outputs": [
    {
     "name": "stderr",
     "output_type": "stream",
     "text": [
      "                                                                                \r"
     ]
    },
    {
     "name": "stdout",
     "output_type": "stream",
     "text": [
      "Đánh giá mô hình RMSE trên tập kiểm tra: 0.6550426078854447\n"
     ]
    }
   ],
   "source": [
    "validation_predictions = predict_all(tree, validation.map(lambda x: x[0]).collect())\n",
    "rmse_score = rmse(validation_predictions, validation.map(lambda x: x[1]).collect())\n",
    "\n",
    "print(\"Đánh giá mô hình RMSE trên tập kiểm tra:\", rmse_score)"
   ]
  },
  {
   "cell_type": "markdown",
   "id": "fbcee7ec",
   "metadata": {},
   "source": [
    "### 6. Dự đoán kết quả và in ra file cho tập test:"
   ]
  },
  {
   "cell_type": "markdown",
   "id": "34fabc2a",
   "metadata": {},
   "source": [
    "- Đọc tập test"
   ]
  },
  {
   "cell_type": "code",
   "execution_count": 44,
   "id": "d7d8443f",
   "metadata": {},
   "outputs": [],
   "source": [
    "lines = sc.textFile(\"nyc-taxi-trip-duration/test/test.csv\")\n",
    "header = lines.first()\n",
    "data = lines.filter(lambda x: x != header)\n",
    "parsedData = data.map(\\\n",
    "lambda line: [get_data(x) for x in line.split(\",\")])"
   ]
  },
  {
   "cell_type": "code",
   "execution_count": 45,
   "id": "bc7abf26",
   "metadata": {},
   "outputs": [
    {
     "name": "stderr",
     "output_type": "stream",
     "text": [
      "                                                                                \r"
     ]
    }
   ],
   "source": [
    "unique_values_store_col = parsedData.map(lambda row: row[-2]).distinct().collect()\n",
    "parsedData = parsedData.map(lambda row: row[:-1] + encode_categorical_features(unique_values_store_col, row[-2]) + row[-1:])\n",
    "parsedData = parsedData.map(lambda row: row[:-1] + extract_datetime_features(row[2]) + row[-1:])\n",
    "test_data = parsedData.map(lambda row: [x for x in row if isinstance(x, (int, float))])\n",
    "predictions = predict_all(tree, test_data.take(1000))"
   ]
  },
  {
   "cell_type": "markdown",
   "id": "26412a2b",
   "metadata": {},
   "source": [
    "- Ghi file output"
   ]
  },
  {
   "cell_type": "code",
   "execution_count": 49,
   "id": "3cd42cb0",
   "metadata": {},
   "outputs": [
    {
     "name": "stderr",
     "output_type": "stream",
     "text": [
      "                                                                                \r"
     ]
    }
   ],
   "source": [
    "id = parsedData.map(lambda row: row[0]).take(1000)\n",
    "# predictions = [math.expm1(x) for x in predictions]\n",
    "submission = sc.parallelize(zip(id, predictions))\n",
    "headers = [\"id\", \"pred_trip_duration\"]\n",
    "submission = submission.map(lambda x: f\"{x[0]},{x[1]}\")\n",
    "submission_headers = sc.parallelize([header]).union(submission).coalesce(1)\n",
    "submission.saveAsTextFile(\"output/low-level.csv\")"
   ]
  },
  {
   "cell_type": "code",
   "execution_count": null,
   "id": "db09c98a",
   "metadata": {},
   "outputs": [],
   "source": [
    "spark.stop()"
   ]
  }
 ],
 "metadata": {
  "kernelspec": {
   "display_name": "base",
   "language": "python",
   "name": "python3"
  },
  "language_info": {
   "codemirror_mode": {
    "name": "ipython",
    "version": 3
   },
   "file_extension": ".py",
   "mimetype": "text/x-python",
   "name": "python",
   "nbconvert_exporter": "python",
   "pygments_lexer": "ipython3",
   "version": "3.12.2"
  }
 },
 "nbformat": 4,
 "nbformat_minor": 5
}
